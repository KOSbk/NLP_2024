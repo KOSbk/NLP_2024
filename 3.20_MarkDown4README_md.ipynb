{
  "nbformat": 4,
  "nbformat_minor": 0,
  "metadata": {
    "colab": {
      "provenance": [],
      "include_colab_link": true
    },
    "kernelspec": {
      "name": "python3",
      "display_name": "Python 3"
    },
    "language_info": {
      "name": "python"
    }
  },
  "cells": [
    {
      "cell_type": "markdown",
      "metadata": {
        "id": "view-in-github",
        "colab_type": "text"
      },
      "source": [
        "<a href=\"https://colab.research.google.com/github/KOSbk/NLP_2024/blob/main/3.20_MarkDown4README_md.ipynb\" target=\"_parent\"><img src=\"https://colab.research.google.com/assets/colab-badge.svg\" alt=\"Open In Colab\"/></a>"
      ]
    },
    {
      "cell_type": "markdown",
      "source": [
        "# 😊😁 **How to Use <font color = 'red'> Markdown Language**\n",
        "* ## For <font color = 'green'> more syntax</font> of markdown langauge, [Click here.](https://www.markdownguide.org/basic-syntax/)\n"
      ],
      "metadata": {
        "id": "nFyrb7heQOTL"
      }
    },
    {
      "cell_type": "markdown",
      "source": [
        "# NLP_2024\n",
        "\n",
        "# 🔥🔥 **<font color = 'red'>Python Language**\n",
        "\n",
        "## **<font color = 'red'>Learning Python</font>** using **<font color = 'red'>Colab** </font>([Visit Colab homepage](https://colab.research.google.com/?utm_source=scs-index)) and **<font color = 'red'>Github**</font> ([Visit Github homepage](https://github.com/))\n",
        "\n",
        "## **1. <font color = 'red'>Sign up github**</font> ([Visit a tutorial on Youtube](https://www.youtube.com/watch?v=c-NikCpec7U))\n",
        "## **2. <font color = 'red'>Sign up Google Colaboratory</font>** (aka. Colab) ([Visit a tutorial on Youtube](https://www.youtube.com/watch?v=2X_EU18OeYM))\n",
        "\n",
        "## **3.<font color = 'red'> Useful References</font>**\n",
        "- Exercises 200 파이썬200제 by 장삼용. 정보문화사 2017\n",
        "- [Jump to Python](https://wikidocs.net/book/1)\n",
        "- [wikidocs for nltk](https://wikidocs.net/21667)\n",
        "\n",
        "## **4. <font color = 'red'>Markdown Language**\n",
        "* [Emoji](https://gist.github.com/rxaviers/7360908)\n",
        "* [Markdown syntax](https://www.markdownguide.org/basic-syntax/)\n",
        "\n",
        "## **5. <font color = 'red'>Class Materials**<font color = 'black'>\n",
        "| # | Sessions | Keywords |\n",
        "|:--:|:--:|:--:|\n",
        "| 1 | Markdown Language 👪  | [syntax](https://github.com/ms624atyale/NLP_2024/blob/main/0_MarkDown4README_md.ipynb)|  "
      ],
      "metadata": {
        "id": "OtctgkT2NOCS"
      }
    }
  ]
}