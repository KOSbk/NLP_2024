{
  "nbformat": 4,
  "nbformat_minor": 0,
  "metadata": {
    "collab": {
      "증명": [],
      "include_colab_link": true
    },
    "kernel 사양": {
      "이름": "python3",
      "display_name": "Python 3"
    },
    "language_info": {
      "이름": "python"
    }
  },
  "셀": [
    {
      "cell_type": "markdown",
      "metadata": {
        "id": "view-in-github",
        "colab_type": "text"
      },
      "출처": [
        "<a href=\"https://colab.research.google.com/github/KOSbk/NLP_2024/blob/main/3/15_00_MarkDown4README_md.ipynb \" target=\"_parent\"><img src=\"https://colab.research.google.com/assets/colab-badge.svg \" alt=\"Open In Colab\"/></a>"
      ]
    },
    {
      "cell_type": "markdown",
      "출처": [
        "# ❓❔❓ **사용방법 <font색상='에메랄드'> 마크다운언어**\n",
        "* ## 마크다운 언어의 <font 색상 = 'violet'> 더 많은 구문</font>의 경우 [여기를 클릭하시겠습니까?!?!](https://www.markdownguide.org/basic-syntax/) \n"
      ],
      "metadata": {
        "id": "nFyrb7heQOTL"
      }
    },
    {
      "cell_type": "markdown",
      "출처": [
        "# NLP_2024\n",
        "\n",
        "# 🌈🌈 **<font색 ='빨간색'>파이<앞색 ='orange'th<font색 ='노란색'>위에 <font색 ='녹색'>La<앞색 ='파란색'>ng<font색 ='navy'ua<font색 ='purple'>ge**\n",
        "\n",
        "## **Colab**([Colab 홈페이지 방문](https://colab.research.google.com/ ?utm_source=scs-index) 및 **Github**([Github 홈페이지 방문])을 이용한 Python** 학습",
        "\n",
        "### **1. Sign up github** ([Visit a tutorial on Youtube](https://www.youtube.com/watch?v=c-NikCpec7U))\n",
        "### **2. Sign up <font color = 'blue'>G<font color = 'red'>o<font color = 'orange'>o<font color = 'blue'>g<font color = 'green'>l<font color = 'red'>e</font>  <font color = 'black '>Colaboratory** (aka. Colab) ([Visit a tutorial on Youtube](https://www.youtube.com/watch?v=2X_EU18OeYM))\n",
        "\n",
        "\n",
        "\n",
        "\n",
        "\n",
        "### **3. Useful References**\n",
        "- Exercises 200 파이썬200제 by 장삼용. 정보문화사 2017\n",
        "- [Jump to Python](https://wikidocs.net/book/1)\n",
        "- [wikidocs for nltk](https://wikidocs.net/21667)\n",
        "\n",
        "### **4. Markdown Language**\n",
        "* [Emoji](https://gist.github.com/rxaviers/7360908)\n",
        "* [Markdown syntax](https://www.markdownguide.org/basic-syntax/)\n",
        "\n",
        "### **5. Class Materials**\n",
        "| # | Sessions | Keywords |\n",
        "|:--:|:--:|:--:|\n",
        "| 1 | Markdown Language 👪  | [syntax](https://github.com/ms624atyale/NLP_2024/blob/main/0_MarkDown4README_md.ipynb)|  "
      ],
      "metadata": {
        "id": "OtctgkT2NOCS"
      }
    }
  ]
}
