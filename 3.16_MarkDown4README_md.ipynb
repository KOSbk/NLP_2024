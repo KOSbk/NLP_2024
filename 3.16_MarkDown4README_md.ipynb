{
  "nbformat": 4,
  "nbformat_minor": 0,
  "metadata": {
    "colab": {
      "provenance": [],
      "include_colab_link": true
    },
    "kernelspec": {
      "name": "python3",
      "display_name": "Python 3"
    },
    "language_info": {
      "name": "python"
    }
  },
  "cells": [
    {
      "cell_type": "markdown",
      "metadata": {
        "id": "view-in-github",
        "colab_type": "text"
      },
      "source": [
        "<a href=\"https://colab.research.google.com/github/KOSbk/NLP_2024/blob/main/3.16_MarkDown4README_md.ipynb\" target=\"_parent\"><img src=\"https://colab.research.google.com/assets/colab-badge.svg\" alt=\"Open In Colab\"/></a>"
      ]
    },
    {
      "cell_type": "markdown",
      "source": [
        "# 💪🐷🤘 **How to Use <font color = 'pink'> Markdown Language**\n",
        "* ## For <font color = 'red '> more syntax</font> of markdown langauge, [Click here~~](https://www.markdownguide.org/basic-syntax/)\n"
      ],
      "metadata": {
        "id": "nFyrb7heQOTL"
      }
    },
    {
      "cell_type": "markdown",
      "source": [
        "# ***NLP_2024***\n",
        "\n",
        "# 📌 <font color = 'brown '> **Python Language**\n",
        "\n",
        "## **Learning Python** using **Colab** ([Visit Colab homepage](https://colab.research.google.com/?utm_source=scs-index)) and **Github** ([Visit Github homepage](https://github.com/))\n",
        "\n",
        "## **📌<font color = 'red  '>1. Sign up github** <font color = 'White'> ([Visit a tutorial on Youtube](https://www.youtube.com/watch?v=c-NikCpec7U))\n",
        "## **📌<font color = 'Orange'>2. Sign up Google Colaboratory** <font color = 'White'> (aka. Colab) ([Visit a tutorial on Youtube](https://www.youtube.com/watch?v=2X_EU18OeYM))\n",
        "\n",
        "## **📌<font color = ' Yellow '>3. Useful References**\n",
        "- ## Exercises 200 파이썬200제 by 장삼용. 정보문화사 2017\n",
        "- ## [Jump to Python](https://wikidocs.net/book/1)\n",
        "- ## [wikidocs for nltk](https://wikidocs.net/21667)\n",
        "\n",
        "## **📌<font color = ' Green '>4.  Language**\n",
        "* [Emoji](https://gist.github.com/rxaviers/7360908)\n",
        "* [Markdown syntax](https://www.markdownguide.org/basic-syntax/)\n",
        "\n",
        "### **📌<font color = ' Pink '>5. Class Materials** <font color = 'White'>\n",
        "| # | Sessions | Keywords |\n",
        "|:--:|:--:|:--:|\n",
        "| 1 | Markdown Language 👪  | [syntax](https://github.com/ms624atyale/NLP_2024/blob/main/0_MarkDown4README_md.ipynb)|  "
      ],
      "metadata": {
        "id": "OtctgkT2NOCS"
      }
    }
  ]
}